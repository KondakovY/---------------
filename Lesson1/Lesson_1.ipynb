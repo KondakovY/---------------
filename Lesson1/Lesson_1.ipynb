{
 "cells": [
  {
   "cell_type": "markdown",
   "id": "119688fa",
   "metadata": {},
   "source": [
    "1. Посмотреть документацию к API GitHub, разобраться как вывести список репозиториев для конкретного пользователя, сохранить JSON-вывод в файле *.json."
   ]
  },
  {
   "cell_type": "code",
   "execution_count": 1,
   "id": "e1c73998",
   "metadata": {},
   "outputs": [],
   "source": [
    "import requests\n",
    "import json"
   ]
  },
  {
   "cell_type": "code",
   "execution_count": 2,
   "id": "40f8353f",
   "metadata": {},
   "outputs": [],
   "source": [
    "url = 'https://api.github.com'\n",
    "user='KondakovY'"
   ]
  },
  {
   "cell_type": "code",
   "execution_count": 3,
   "id": "c2aa966c",
   "metadata": {},
   "outputs": [],
   "source": [
    "r = requests.get(f'{url}/users/{user}/repos')"
   ]
  },
  {
   "cell_type": "code",
   "execution_count": 4,
   "id": "1193e1c5",
   "metadata": {},
   "outputs": [],
   "source": [
    "with open('task1.json', 'w') as f:\n",
    "    json.dump(r.json(), f)"
   ]
  },
  {
   "cell_type": "code",
   "execution_count": 5,
   "id": "aa8184da",
   "metadata": {},
   "outputs": [
    {
     "name": "stdout",
     "output_type": "stream",
     "text": [
      "--Python---Data-Science-Numpy--Matplotlib--Scikit-learn\n",
      "Python\n"
     ]
    }
   ],
   "source": [
    "for i in r.json():\n",
    "    print(i['name'])"
   ]
  },
  {
   "cell_type": "markdown",
   "id": "4a8118e7",
   "metadata": {},
   "source": [
    "2. Изучить список открытых API. Найти среди них любое, требующее авторизацию (любого типа). Выполнить запросы к нему, пройдя авторизацию. Ответ сервера записать в файл."
   ]
  },
  {
   "cell_type": "code",
   "execution_count": 6,
   "id": "909d9d64",
   "metadata": {},
   "outputs": [],
   "source": [
    "import requests\n",
    "import json"
   ]
  },
  {
   "cell_type": "code",
   "execution_count": 7,
   "id": "1ee29a60",
   "metadata": {},
   "outputs": [],
   "source": [
    "url = 'https://api.nasa.gov/planetary/apod?api_key=WlISrhqDQmP8fR5ECT5Oy86wKly7Cp3pbzWphOdI'\n",
    "api_key = 'WlISrhqDQmP8fR5ECT5Oy86wKly7Cp3pbzWphOdI'\n",
    "headers = {\n",
    "    'Content-Type': 'application/json',\n",
    "    'Authorization': api_key\n",
    "}"
   ]
  },
  {
   "cell_type": "code",
   "execution_count": 8,
   "id": "20b43e9a",
   "metadata": {},
   "outputs": [
    {
     "name": "stdout",
     "output_type": "stream",
     "text": [
      "{'copyright': 'Luo Hongyang', 'date': '2021-08-15', 'explanation': \"Comet dust rained down on planet Earth last week, streaking through dark skies in the annual Perseid meteor shower. The featured picture is a composite of many images taken from the same location over the peak night of the Perseids. The umbrella was not needed as a shield from meteors, since they almost entirely evaporate high in the Earth's atmosphere. Many of the component images featured individual Perseids, while one image featured the foreground near Jiuquan City, Gansu Province, China. The stellar background includes the central band of our Milky Way Galaxy, appearing nearly vertical, as well as the planets Jupiter and Saturn on the left. Although the comet dust particles are traveling parallel to each other, the resulting shower meteors clearly seem to radiate from a single point on the sky -- the radiant in the eponymous constellation Perseus. The image captured so long an angular field that the curvature of the sky is visible in the trajectory of the Perseids.   Notable APOD Image Submissions: Perseid Meteor Shower 2021\", 'hdurl': 'https://apod.nasa.gov/apod/image/2108/PerseidRain2021_Luo_2042.jpg', 'media_type': 'image', 'service_version': 'v1', 'title': 'Perseid Rain', 'url': 'https://apod.nasa.gov/apod/image/2108/PerseidRain2021_Luo_960.jpg'}\n"
     ]
    }
   ],
   "source": [
    "response = requests.get(f'{url}', headers = headers)\n",
    "\n",
    "with open('task2.json', 'w', encoding='utf-8') as f:\n",
    "    json.dump(response.json(), f)\n",
    "\n",
    "print(response.json())"
   ]
  }
 ],
 "metadata": {
  "kernelspec": {
   "display_name": "Python 3",
   "language": "python",
   "name": "python3"
  },
  "language_info": {
   "codemirror_mode": {
    "name": "ipython",
    "version": 3
   },
   "file_extension": ".py",
   "mimetype": "text/x-python",
   "name": "python",
   "nbconvert_exporter": "python",
   "pygments_lexer": "ipython3",
   "version": "3.8.8"
  }
 },
 "nbformat": 4,
 "nbformat_minor": 5
}
